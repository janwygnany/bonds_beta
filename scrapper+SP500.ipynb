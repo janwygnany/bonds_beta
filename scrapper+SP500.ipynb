{
 "cells": [
  {
   "cell_type": "markdown",
   "source": [
    "# Excersise in beta calculation using FRED API\n",
    "In the following jupyter notebook I am looking at possibility of calculating beta (volatility measure) for US govt. bonds"
   ],
   "metadata": {
    "collapsed": false
   },
   "id": "36f7976fffcac92"
  },
  {
   "cell_type": "code",
   "execution_count": 1,
   "id": "initial_id",
   "metadata": {
    "collapsed": true,
    "ExecuteTime": {
     "end_time": "2023-11-19T17:30:23.281449Z",
     "start_time": "2023-11-19T17:30:22.675313Z"
    }
   },
   "outputs": [],
   "source": [
    "import numpy as np\n",
    "import requests\n",
    "import pandas as pd\n",
    "from fred_key import fred_key\n",
    "import matplotlib.pyplot as plt"
   ]
  },
  {
   "cell_type": "code",
   "execution_count": 2,
   "outputs": [],
   "source": [
    "api_key = fred_key"
   ],
   "metadata": {
    "collapsed": false,
    "ExecuteTime": {
     "end_time": "2023-11-19T17:30:23.283325Z",
     "start_time": "2023-11-19T17:30:23.280750Z"
    }
   },
   "id": "36d820118f2d7958"
  },
  {
   "cell_type": "code",
   "execution_count": 3,
   "outputs": [],
   "source": [
    "# Define the FRED API endpoint\n",
    "base_url = 'https://api.stlouisfed.org/fred/'\n",
    "\n",
    "'''\n",
    "Get observation data from the FRED API\n",
    "'''\n",
    "\n",
    "# Assign endpoint\n",
    "obs_endpoint = 'series/observations'"
   ],
   "metadata": {
    "collapsed": false,
    "ExecuteTime": {
     "end_time": "2023-11-19T17:30:23.287759Z",
     "start_time": "2023-11-19T17:30:23.283130Z"
    }
   },
   "id": "e99a90fc2a18cc4d"
  },
  {
   "cell_type": "code",
   "execution_count": 4,
   "outputs": [],
   "source": [
    "# Assign parameters\n",
    "series_id = 'SP500'\n",
    "start_date = '2013-11-11'\n",
    "end_date = '2023-11-13'\n",
    "ts_frequency = 'd'\n",
    "ts_units = 'pc1'"
   ],
   "metadata": {
    "collapsed": false,
    "ExecuteTime": {
     "end_time": "2023-11-19T17:30:23.979459Z",
     "start_time": "2023-11-19T17:30:23.974762Z"
    }
   },
   "id": "3cf8e667b337413c"
  },
  {
   "cell_type": "code",
   "execution_count": 5,
   "outputs": [],
   "source": [
    "obs_params = {\n",
    "    'series_id': series_id,\n",
    "    'api_key': api_key,\n",
    "    'file_type': 'json',\n",
    "    'observation_start': start_date,\n",
    "    'observation_end': end_date,\n",
    "    # 'frequency': ts_frequency\n",
    "    # 'units': ts_units\n",
    "}\n",
    "\n",
    "# Make request to FRED API\n",
    "response = requests.get(base_url + obs_endpoint, params=obs_params)"
   ],
   "metadata": {
    "collapsed": false,
    "ExecuteTime": {
     "end_time": "2023-11-19T17:30:25.018498Z",
     "start_time": "2023-11-19T17:30:24.707697Z"
    }
   },
   "id": "c43af03129829949"
  },
  {
   "cell_type": "code",
   "execution_count": 6,
   "outputs": [],
   "source": [
    "# Format data\n",
    "if response.status_code == 200:\n",
    "    res_data = response.json()\n",
    "    obs_data = pd.DataFrame(res_data['observations'])\n",
    "    obs_data['date'] = pd.to_datetime(obs_data['date'])\n",
    "else:\n",
    "    print('Failed to retrieve data. Status code:', response.status_code)\n",
    "    "
   ],
   "metadata": {
    "collapsed": false,
    "ExecuteTime": {
     "end_time": "2023-11-19T17:30:25.459194Z",
     "start_time": "2023-11-19T17:30:25.451826Z"
    }
   },
   "id": "7694d2fb0d08684b"
  },
  {
   "cell_type": "code",
   "execution_count": 7,
   "outputs": [],
   "source": [
    "SP500 = obs_data.drop(['realtime_start','realtime_end'], axis = 1)"
   ],
   "metadata": {
    "collapsed": false,
    "ExecuteTime": {
     "end_time": "2023-11-19T17:30:26.076961Z",
     "start_time": "2023-11-19T17:30:26.071948Z"
    }
   },
   "id": "1594428acafb52c8"
  },
  {
   "cell_type": "code",
   "execution_count": 8,
   "outputs": [],
   "source": [
    "temp1= np.array(SP500['value'])"
   ],
   "metadata": {
    "collapsed": false,
    "ExecuteTime": {
     "end_time": "2023-11-19T17:30:26.577583Z",
     "start_time": "2023-11-19T17:30:26.570909Z"
    }
   },
   "id": "a5a545e44d1b94e5"
  },
  {
   "cell_type": "code",
   "execution_count": 9,
   "outputs": [],
   "source": [
    "idx = np.array([])\n",
    "for i, n in enumerate(temp1):\n",
    "    if n == '.':\n",
    "        idx = np.append(idx, i)\n",
    "idx = idx.astype(int)\n",
    "temp1 = np.delete(temp1,idx)"
   ],
   "metadata": {
    "collapsed": false,
    "ExecuteTime": {
     "end_time": "2023-11-19T17:30:27.016689Z",
     "start_time": "2023-11-19T17:30:27.010982Z"
    }
   },
   "id": "f571141d68cdda37"
  },
  {
   "cell_type": "code",
   "execution_count": 10,
   "outputs": [],
   "source": [
    "temp1 = temp1.astype(float)"
   ],
   "metadata": {
    "collapsed": false,
    "ExecuteTime": {
     "end_time": "2023-11-19T17:30:27.689796Z",
     "start_time": "2023-11-19T17:30:27.683224Z"
    }
   },
   "id": "f592a7c383b51d42"
  },
  {
   "cell_type": "code",
   "execution_count": 11,
   "outputs": [],
   "source": [
    "temp2= temp1[1:]\n",
    "temp3= temp1[:-1]"
   ],
   "metadata": {
    "collapsed": false,
    "ExecuteTime": {
     "end_time": "2023-11-19T17:30:31.181640Z",
     "start_time": "2023-11-19T17:30:31.177539Z"
    }
   },
   "id": "74384c92e32381c5"
  },
  {
   "cell_type": "code",
   "execution_count": 12,
   "outputs": [],
   "source": [
    "SP500 = SP500.drop(idx, axis=0)\n",
    "SP500 = SP500.drop(0, axis=0)"
   ],
   "metadata": {
    "collapsed": false,
    "ExecuteTime": {
     "end_time": "2023-11-19T17:30:31.684424Z",
     "start_time": "2023-11-19T17:30:31.674696Z"
    }
   },
   "id": "b31c090ac1f1dd94"
  },
  {
   "cell_type": "code",
   "execution_count": 13,
   "outputs": [
    {
     "data": {
      "text/plain": "           date    value\n0    2013-11-19  1787.87\n1    2013-11-20  1781.37\n2    2013-11-21  1795.85\n3    2013-11-22  1804.76\n4    2013-11-25  1802.48\n...         ...      ...\n2508 2023-11-07  4378.38\n2509 2023-11-08  4382.78\n2510 2023-11-09  4347.35\n2511 2023-11-10  4415.24\n2512 2023-11-13  4411.55\n\n[2513 rows x 2 columns]",
      "text/html": "<div>\n<style scoped>\n    .dataframe tbody tr th:only-of-type {\n        vertical-align: middle;\n    }\n\n    .dataframe tbody tr th {\n        vertical-align: top;\n    }\n\n    .dataframe thead th {\n        text-align: right;\n    }\n</style>\n<table border=\"1\" class=\"dataframe\">\n  <thead>\n    <tr style=\"text-align: right;\">\n      <th></th>\n      <th>date</th>\n      <th>value</th>\n    </tr>\n  </thead>\n  <tbody>\n    <tr>\n      <th>0</th>\n      <td>2013-11-19</td>\n      <td>1787.87</td>\n    </tr>\n    <tr>\n      <th>1</th>\n      <td>2013-11-20</td>\n      <td>1781.37</td>\n    </tr>\n    <tr>\n      <th>2</th>\n      <td>2013-11-21</td>\n      <td>1795.85</td>\n    </tr>\n    <tr>\n      <th>3</th>\n      <td>2013-11-22</td>\n      <td>1804.76</td>\n    </tr>\n    <tr>\n      <th>4</th>\n      <td>2013-11-25</td>\n      <td>1802.48</td>\n    </tr>\n    <tr>\n      <th>...</th>\n      <td>...</td>\n      <td>...</td>\n    </tr>\n    <tr>\n      <th>2508</th>\n      <td>2023-11-07</td>\n      <td>4378.38</td>\n    </tr>\n    <tr>\n      <th>2509</th>\n      <td>2023-11-08</td>\n      <td>4382.78</td>\n    </tr>\n    <tr>\n      <th>2510</th>\n      <td>2023-11-09</td>\n      <td>4347.35</td>\n    </tr>\n    <tr>\n      <th>2511</th>\n      <td>2023-11-10</td>\n      <td>4415.24</td>\n    </tr>\n    <tr>\n      <th>2512</th>\n      <td>2023-11-13</td>\n      <td>4411.55</td>\n    </tr>\n  </tbody>\n</table>\n<p>2513 rows × 2 columns</p>\n</div>"
     },
     "execution_count": 13,
     "metadata": {},
     "output_type": "execute_result"
    }
   ],
   "source": [
    "SP500.reset_index(drop=True, inplace=True)\n",
    "SP500"
   ],
   "metadata": {
    "collapsed": false,
    "ExecuteTime": {
     "end_time": "2023-11-19T17:30:32.271212Z",
     "start_time": "2023-11-19T17:30:32.261932Z"
    }
   },
   "id": "dda5a26846631bf"
  },
  {
   "cell_type": "code",
   "execution_count": 15,
   "outputs": [],
   "source": [
    "SP500_2 = SP500.drop(index=range(0, 366))\n",
    "SP500_3 = SP500.drop(index=range(0, 30))"
   ],
   "metadata": {
    "collapsed": false,
    "ExecuteTime": {
     "end_time": "2023-11-19T17:31:11.012691Z",
     "start_time": "2023-11-19T17:31:10.998063Z"
    }
   },
   "id": "5322e05707b2ec3f"
  },
  {
   "cell_type": "code",
   "execution_count": 16,
   "outputs": [],
   "source": [
    "temp4 = temp1[367:]\n",
    "temp5 = temp1[:-367]\n",
    "temp6 = temp1[31:]\n",
    "temp7 = temp1[:-31]"
   ],
   "metadata": {
    "collapsed": false,
    "ExecuteTime": {
     "end_time": "2023-11-19T17:31:45.928740Z",
     "start_time": "2023-11-19T17:31:45.916551Z"
    }
   },
   "id": "572ac86ef2fdba27"
  },
  {
   "cell_type": "code",
   "execution_count": 17,
   "outputs": [],
   "source": [
    "SP500['returnSP500S'] = ((((temp3-temp2)/temp3+1)**365) - 1) * 100\n",
    "SP500_2['returnSP500L'] = ((temp4-temp5)/temp5)*100\n",
    "SP500_3['returnSP500M'] = ((temp6-temp7)/temp7)*100\n",
    "##SP500[] = np.array((temp1 - temp1[0])/temp1[0]*100)\n",
    "##temp4 = np.delete[0]\n",
    "##SP500['returnSP500L'] = temp4\n"
   ],
   "metadata": {
    "collapsed": false,
    "ExecuteTime": {
     "end_time": "2023-11-19T17:36:30.103467Z",
     "start_time": "2023-11-19T17:36:30.091056Z"
    }
   },
   "id": "6a819098f4f4c651"
  },
  {
   "cell_type": "code",
   "execution_count": 18,
   "outputs": [],
   "source": [
    "series_id = 'DGS10'\n",
    "start_date = '2013-11-11'\n",
    "end_date = '2023-11-13'\n",
    "ts_frequency = 'd'\n",
    "ts_units = 'pc1'\n",
    "\n",
    "obs_params = {\n",
    "    'series_id': series_id,\n",
    "    'api_key': api_key,\n",
    "    'file_type': 'json',\n",
    "    'observation_start': start_date,\n",
    "    'observation_end': end_date,\n",
    "    # 'frequency': ts_frequency\n",
    "    # 'units': ts_units\n",
    "}"
   ],
   "metadata": {
    "collapsed": false,
    "ExecuteTime": {
     "end_time": "2023-11-19T17:36:30.919718Z",
     "start_time": "2023-11-19T17:36:30.911490Z"
    }
   },
   "id": "9f8ad211a11e4c93"
  },
  {
   "cell_type": "code",
   "execution_count": 19,
   "outputs": [],
   "source": [
    "# Make request to FRED API\n",
    "response = requests.get(base_url + obs_endpoint, params=obs_params)\n",
    "# Format data\n",
    "if response.status_code == 200:\n",
    "    res_data = response.json()\n",
    "    obs_data = pd.DataFrame(res_data['observations'])\n",
    "    obs_data['date'] = pd.to_datetime(obs_data['date'])\n",
    "else:\n",
    "    print('Failed to retrieve data. Status code:', response.status_code)"
   ],
   "metadata": {
    "collapsed": false,
    "ExecuteTime": {
     "end_time": "2023-11-19T17:36:34.824430Z",
     "start_time": "2023-11-19T17:36:34.557732Z"
    }
   },
   "id": "7df1682e327f76ed"
  },
  {
   "cell_type": "code",
   "execution_count": 20,
   "outputs": [],
   "source": [
    "bonds = obs_data"
   ],
   "metadata": {
    "collapsed": false,
    "ExecuteTime": {
     "end_time": "2023-11-19T17:36:36.568452Z",
     "start_time": "2023-11-19T17:36:36.565344Z"
    }
   },
   "id": "8059f8152577f190"
  },
  {
   "cell_type": "code",
   "execution_count": 21,
   "outputs": [],
   "source": [
    "temp4 = np.array(bonds['value'])\n",
    "idx = np.array([])\n",
    "for i, n in enumerate(temp4):\n",
    "    if n == '.':\n",
    "        idx = np.append(idx, i)\n",
    "idx = idx.astype(int)\n",
    "temp4 = np.delete(temp4,idx)\n",
    "temp4 = temp4.astype(float)"
   ],
   "metadata": {
    "collapsed": false,
    "ExecuteTime": {
     "end_time": "2023-11-19T17:36:37.776221Z",
     "start_time": "2023-11-19T17:36:37.768358Z"
    }
   },
   "id": "b56336b457bf1b31"
  },
  {
   "cell_type": "code",
   "execution_count": 22,
   "outputs": [],
   "source": [
    "bonds = bonds.drop(idx, axis=0)"
   ],
   "metadata": {
    "collapsed": false,
    "ExecuteTime": {
     "end_time": "2023-11-19T17:36:38.177793Z",
     "start_time": "2023-11-19T17:36:38.170158Z"
    }
   },
   "id": "2cd3c3f8933a12b"
  },
  {
   "cell_type": "code",
   "execution_count": 23,
   "outputs": [],
   "source": [
    "#bonds = bonds.drop(['realtime_start','realtime_end','value'], axis = 1)\n",
    "bonds['value_B10'] = temp4"
   ],
   "metadata": {
    "collapsed": false,
    "ExecuteTime": {
     "end_time": "2023-11-19T17:36:38.491397Z",
     "start_time": "2023-11-19T17:36:38.483587Z"
    }
   },
   "id": "f689a6d3feed4363"
  },
  {
   "cell_type": "code",
   "execution_count": 27,
   "outputs": [
    {
     "data": {
      "text/plain": "           date  returnSP500L  value_B10    value  returnSP500M   SP500v\n0    2014-01-03           NaN       3.01  1831.37      2.223798      NaN\n1    2014-01-06           NaN       2.98  1826.77      2.175773      NaN\n2    2014-01-07           NaN       2.96  1837.88      3.172278      NaN\n3    2014-01-08           NaN       3.01  1837.49      2.318679      NaN\n4    2014-01-09           NaN       2.97  1838.13      1.848999      NaN\n...         ...           ...        ...      ...           ...      ...\n2478 2023-11-07     10.182573       4.58  4378.38      0.943875  4378.38\n2479 2023-11-08     11.196302       4.49  4382.78      2.556435  4382.78\n2480 2023-11-09      9.264765       4.62  4347.35      1.704055  4347.35\n2481 2023-11-10      8.807642       4.61  4415.24      2.687164  4415.24\n2482 2023-11-13      6.091760       4.63  4411.55      2.880097  4411.55\n\n[2483 rows x 6 columns]",
      "text/html": "<div>\n<style scoped>\n    .dataframe tbody tr th:only-of-type {\n        vertical-align: middle;\n    }\n\n    .dataframe tbody tr th {\n        vertical-align: top;\n    }\n\n    .dataframe thead th {\n        text-align: right;\n    }\n</style>\n<table border=\"1\" class=\"dataframe\">\n  <thead>\n    <tr style=\"text-align: right;\">\n      <th></th>\n      <th>date</th>\n      <th>returnSP500L</th>\n      <th>value_B10</th>\n      <th>value</th>\n      <th>returnSP500M</th>\n      <th>SP500v</th>\n    </tr>\n  </thead>\n  <tbody>\n    <tr>\n      <th>0</th>\n      <td>2014-01-03</td>\n      <td>NaN</td>\n      <td>3.01</td>\n      <td>1831.37</td>\n      <td>2.223798</td>\n      <td>NaN</td>\n    </tr>\n    <tr>\n      <th>1</th>\n      <td>2014-01-06</td>\n      <td>NaN</td>\n      <td>2.98</td>\n      <td>1826.77</td>\n      <td>2.175773</td>\n      <td>NaN</td>\n    </tr>\n    <tr>\n      <th>2</th>\n      <td>2014-01-07</td>\n      <td>NaN</td>\n      <td>2.96</td>\n      <td>1837.88</td>\n      <td>3.172278</td>\n      <td>NaN</td>\n    </tr>\n    <tr>\n      <th>3</th>\n      <td>2014-01-08</td>\n      <td>NaN</td>\n      <td>3.01</td>\n      <td>1837.49</td>\n      <td>2.318679</td>\n      <td>NaN</td>\n    </tr>\n    <tr>\n      <th>4</th>\n      <td>2014-01-09</td>\n      <td>NaN</td>\n      <td>2.97</td>\n      <td>1838.13</td>\n      <td>1.848999</td>\n      <td>NaN</td>\n    </tr>\n    <tr>\n      <th>...</th>\n      <td>...</td>\n      <td>...</td>\n      <td>...</td>\n      <td>...</td>\n      <td>...</td>\n      <td>...</td>\n    </tr>\n    <tr>\n      <th>2478</th>\n      <td>2023-11-07</td>\n      <td>10.182573</td>\n      <td>4.58</td>\n      <td>4378.38</td>\n      <td>0.943875</td>\n      <td>4378.38</td>\n    </tr>\n    <tr>\n      <th>2479</th>\n      <td>2023-11-08</td>\n      <td>11.196302</td>\n      <td>4.49</td>\n      <td>4382.78</td>\n      <td>2.556435</td>\n      <td>4382.78</td>\n    </tr>\n    <tr>\n      <th>2480</th>\n      <td>2023-11-09</td>\n      <td>9.264765</td>\n      <td>4.62</td>\n      <td>4347.35</td>\n      <td>1.704055</td>\n      <td>4347.35</td>\n    </tr>\n    <tr>\n      <th>2481</th>\n      <td>2023-11-10</td>\n      <td>8.807642</td>\n      <td>4.61</td>\n      <td>4415.24</td>\n      <td>2.687164</td>\n      <td>4415.24</td>\n    </tr>\n    <tr>\n      <th>2482</th>\n      <td>2023-11-13</td>\n      <td>6.091760</td>\n      <td>4.63</td>\n      <td>4411.55</td>\n      <td>2.880097</td>\n      <td>4411.55</td>\n    </tr>\n  </tbody>\n</table>\n<p>2483 rows × 6 columns</p>\n</div>"
     },
     "execution_count": 27,
     "metadata": {},
     "output_type": "execute_result"
    }
   ],
   "source": [
    "final = pd.merge(SP500_2, bonds, on='date', how = 'right')\n",
    "final = pd.merge(final, SP500_3, on='date', how = 'right')\n",
    "final = final.drop(['realtime_start','realtime_end','value_y'], axis = 1)\n",
    "final['SP500v'] =final['value_x'].astype(float)\n",
    "final = final.drop('value_x',axis=1)\n",
    "final"
   ],
   "metadata": {
    "collapsed": false,
    "ExecuteTime": {
     "end_time": "2023-11-19T17:37:48.602363Z",
     "start_time": "2023-11-19T17:37:48.588462Z"
    }
   },
   "id": "c31a2b922e568940"
  },
  {
   "cell_type": "markdown",
   "source": [],
   "metadata": {
    "collapsed": false
   },
   "id": "b3a5307a4de01eb2"
  },
  {
   "cell_type": "code",
   "execution_count": 28,
   "outputs": [
    {
     "data": {
      "text/plain": "<matplotlib.collections.PathCollection at 0x168862d90>"
     },
     "execution_count": 28,
     "metadata": {},
     "output_type": "execute_result"
    },
    {
     "data": {
      "text/plain": "<Figure size 640x480 with 1 Axes>",
      "image/png": "[encoded data removed]"
     },
     "metadata": {},
     "output_type": "display_data"
    }
   ],
   "source": [
    "plt.scatter(final['date'],final['returnSP500L'], color='r')\n",
    "plt.scatter(final['date'],final['returnSP500M'], color='g')\n",
    "plt.scatter(final['date'],final['value_B10'], color='b')"
   ],
   "metadata": {
    "collapsed": false,
    "ExecuteTime": {
     "end_time": "2023-11-19T17:38:18.343492Z",
     "start_time": "2023-11-19T17:38:18.193643Z"
    }
   },
   "id": "50f8043162293483"
  },
  {
   "cell_type": "code",
   "execution_count": 29,
   "outputs": [
    {
     "data": {
      "text/plain": "              returnSP500L   value_B10  returnSP500M         SP500v\nreturnSP500L    251.993478   -6.245177     21.485405    3657.027631\nvalue_B10        -6.245177    0.743317     -0.593126     149.098489\nreturnSP500M     21.485405   -0.593126     27.017758     418.750814\nSP500v         3657.027631  149.098489    418.750814  722581.943234",
      "text/html": "<div>\n<style scoped>\n    .dataframe tbody tr th:only-of-type {\n        vertical-align: middle;\n    }\n\n    .dataframe tbody tr th {\n        vertical-align: top;\n    }\n\n    .dataframe thead th {\n        text-align: right;\n    }\n</style>\n<table border=\"1\" class=\"dataframe\">\n  <thead>\n    <tr style=\"text-align: right;\">\n      <th></th>\n      <th>returnSP500L</th>\n      <th>value_B10</th>\n      <th>returnSP500M</th>\n      <th>SP500v</th>\n    </tr>\n  </thead>\n  <tbody>\n    <tr>\n      <th>returnSP500L</th>\n      <td>251.993478</td>\n      <td>-6.245177</td>\n      <td>21.485405</td>\n      <td>3657.027631</td>\n    </tr>\n    <tr>\n      <th>value_B10</th>\n      <td>-6.245177</td>\n      <td>0.743317</td>\n      <td>-0.593126</td>\n      <td>149.098489</td>\n    </tr>\n    <tr>\n      <th>returnSP500M</th>\n      <td>21.485405</td>\n      <td>-0.593126</td>\n      <td>27.017758</td>\n      <td>418.750814</td>\n    </tr>\n    <tr>\n      <th>SP500v</th>\n      <td>3657.027631</td>\n      <td>149.098489</td>\n      <td>418.750814</td>\n      <td>722581.943234</td>\n    </tr>\n  </tbody>\n</table>\n</div>"
     },
     "execution_count": 29,
     "metadata": {},
     "output_type": "execute_result"
    }
   ],
   "source": [
    "cov = final.cov(min_periods=None, ddof=1, numeric_only=True)\n",
    "cov"
   ],
   "metadata": {
    "collapsed": false,
    "ExecuteTime": {
     "end_time": "2023-11-19T17:38:28.219295Z",
     "start_time": "2023-11-19T17:38:28.205508Z"
    }
   },
   "id": "f393f2aecc53fb"
  },
  {
   "cell_type": "code",
   "execution_count": 30,
   "outputs": [],
   "source": [
    "var1 = final['returnSP500L'].var(axis=0, skipna=True, ddof=1, numeric_only=False)\n",
    "var2= final['returnSP500M'].var(axis=0, skipna=True, ddof=1, numeric_only=False)"
   ],
   "metadata": {
    "collapsed": false,
    "ExecuteTime": {
     "end_time": "2023-11-19T17:38:39.581729Z",
     "start_time": "2023-11-19T17:38:39.569469Z"
    }
   },
   "id": "7c238934e1b1d4c5"
  },
  {
   "cell_type": "code",
   "execution_count": 28,
   "outputs": [
    {
     "data": {
      "text/plain": "returnSP500L     1.000000\nvalue_B10       -0.024783\nSP500v          14.512390\nName: returnSP500L, dtype: float64"
     },
     "execution_count": 28,
     "metadata": {},
     "output_type": "execute_result"
    }
   ],
   "source": [
    "cov['returnSP500L']/var1"
   ],
   "metadata": {
    "collapsed": false,
    "ExecuteTime": {
     "end_time": "2023-11-16T12:04:59.944490Z",
     "start_time": "2023-11-16T12:04:59.922656Z"
    }
   },
   "id": "6a25d27cbf60187a"
  },
  {
   "cell_type": "code",
   "execution_count": 34,
   "outputs": [
    {
     "data": {
      "text/plain": "returnSP500L     0.795233\nvalue_B10       -0.021953\nreturnSP500M     1.000000\nSP500v          15.499095\nName: returnSP500M, dtype: float64"
     },
     "execution_count": 34,
     "metadata": {},
     "output_type": "execute_result"
    }
   ],
   "source": [
    "cov['returnSP500M']/var2"
   ],
   "metadata": {
    "collapsed": false,
    "ExecuteTime": {
     "end_time": "2023-11-19T17:39:31.285339Z",
     "start_time": "2023-11-19T17:39:31.273194Z"
    }
   },
   "id": "9b46a690ccf4275e"
  }
 ],
 "metadata": {
  "kernelspec": {
   "display_name": "Python 3",
   "language": "python",
   "name": "python3"
  },
  "language_info": {
   "codemirror_mode": {
    "name": "ipython",
    "version": 2
   },
   "file_extension": ".py",
   "mimetype": "text/x-python",
   "name": "python",
   "nbconvert_exporter": "python",
   "pygments_lexer": "ipython2",
   "version": "2.7.6"
  }
 },
 "nbformat": 4,
 "nbformat_minor": 5
}
