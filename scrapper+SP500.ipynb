{
 "cells": [
  {
   "cell_type": "markdown",
   "source": [
    "# Excersise in beta calculation using FRED API\n",
    "In the following jupyter notebook I am looking at possibility of calculating beta (volatility measure) for US govt. bonds"
   ],
   "metadata": {
    "collapsed": false
   },
   "id": "36f7976fffcac92"
  },
  {
   "cell_type": "code",
   "execution_count": 183,
   "id": "initial_id",
   "metadata": {
    "collapsed": true,
    "ExecuteTime": {
     "end_time": "2023-11-14T11:10:58.220745Z",
     "start_time": "2023-11-14T11:10:57.952610Z"
    }
   },
   "outputs": [],
   "source": [
    "import numpy as np\n",
    "import requests\n",
    "import pandas as pd\n",
    "from fred_key import fred_key\n",
    "import matplotlib.pyplot as plt"
   ]
  },
  {
   "cell_type": "code",
   "execution_count": 46,
   "outputs": [],
   "source": [
    "api_key = fred_key"
   ],
   "metadata": {
    "collapsed": false,
    "ExecuteTime": {
     "end_time": "2023-11-13T18:24:11.959171Z",
     "start_time": "2023-11-13T18:24:11.948375Z"
    }
   },
   "id": "36d820118f2d7958"
  },
  {
   "cell_type": "code",
   "execution_count": 0,
   "outputs": [],
   "source": [
    "# Define the FRED API endpoint\n",
    "base_url = 'https://api.stlouisfed.org/fred/'\n",
    "\n",
    "'''\n",
    "Get observation data from the FRED API\n",
    "'''\n",
    "\n",
    "# Assign endpoint\n",
    "obs_endpoint = 'series/observations'"
   ],
   "metadata": {
    "collapsed": false
   },
   "id": "e99a90fc2a18cc4d"
  },
  {
   "cell_type": "code",
   "execution_count": 47,
   "outputs": [],
   "source": [
    "# Assign parameters\n",
    "series_id = 'SP500'\n",
    "start_date = '2013-11-11'\n",
    "end_date = '2023-11-13'\n",
    "ts_frequency = 'd'\n",
    "ts_units = 'pc1'"
   ],
   "metadata": {
    "collapsed": false,
    "ExecuteTime": {
     "start_time": "2023-11-13T18:24:12.446332Z"
    }
   },
   "id": "3cf8e667b337413c"
  },
  {
   "cell_type": "code",
   "execution_count": 70,
   "outputs": [],
   "source": [
    "obs_params = {\n",
    "    'series_id': series_id,\n",
    "    'api_key': api_key,\n",
    "    'file_type': 'json',\n",
    "    'observation_start': start_date,\n",
    "    'observation_end': end_date,\n",
    "    # 'frequency': ts_frequency\n",
    "    # 'units': ts_units\n",
    "}\n",
    "\n",
    "# Make request to FRED API\n",
    "response = requests.get(base_url + obs_endpoint, params=obs_params)"
   ],
   "metadata": {
    "collapsed": false,
    "ExecuteTime": {
     "end_time": "2023-11-13T18:32:25.154426Z",
     "start_time": "2023-11-13T18:32:24.589311Z"
    }
   },
   "id": "c43af03129829949"
  },
  {
   "cell_type": "code",
   "execution_count": 71,
   "outputs": [],
   "source": [
    "# Format data\n",
    "if response.status_code == 200:\n",
    "    res_data = response.json()\n",
    "    obs_data = pd.DataFrame(res_data['observations'])\n",
    "    obs_data['date'] = pd.to_datetime(obs_data['date'])\n",
    "else:\n",
    "    print('Failed to retrieve data. Status code:', response.status_code)\n",
    "    "
   ],
   "metadata": {
    "collapsed": false,
    "ExecuteTime": {
     "end_time": "2023-11-13T18:32:25.871465Z",
     "start_time": "2023-11-13T18:32:25.865253Z"
    }
   },
   "id": "7694d2fb0d08684b"
  },
  {
   "cell_type": "code",
   "execution_count": 72,
   "outputs": [],
   "source": [
    "SP500 = obs_data.drop(['realtime_start','realtime_end'], axis = 1)"
   ],
   "metadata": {
    "collapsed": false,
    "ExecuteTime": {
     "end_time": "2023-11-13T18:32:26.726188Z",
     "start_time": "2023-11-13T18:32:26.719665Z"
    }
   },
   "id": "1594428acafb52c8"
  },
  {
   "cell_type": "code",
   "execution_count": 158,
   "outputs": [],
   "source": [
    "temp1= np.array(SP500['value'])"
   ],
   "metadata": {
    "collapsed": false,
    "ExecuteTime": {
     "end_time": "2023-11-14T10:53:06.289447Z",
     "start_time": "2023-11-14T10:53:06.287004Z"
    }
   },
   "id": "a5a545e44d1b94e5"
  },
  {
   "cell_type": "code",
   "execution_count": 159,
   "outputs": [],
   "source": [
    "idx = np.array([])\n",
    "for i, n in enumerate(temp1):\n",
    "    if n == '.':\n",
    "        idx = np.append(idx, i)\n",
    "idx = idx.astype(int)\n",
    "temp1 = np.delete(temp1,idx)"
   ],
   "metadata": {
    "collapsed": false,
    "ExecuteTime": {
     "end_time": "2023-11-14T10:53:06.921187Z",
     "start_time": "2023-11-14T10:53:06.915534Z"
    }
   },
   "id": "f571141d68cdda37"
  },
  {
   "cell_type": "code",
   "execution_count": 160,
   "outputs": [],
   "source": [
    "temp1 = temp1.astype(float)"
   ],
   "metadata": {
    "collapsed": false,
    "ExecuteTime": {
     "end_time": "2023-11-14T10:53:07.692978Z",
     "start_time": "2023-11-14T10:53:07.689799Z"
    }
   },
   "id": "f592a7c383b51d42"
  },
  {
   "cell_type": "code",
   "execution_count": 94,
   "outputs": [],
   "source": [
    "temp2= temp1[1:]\n",
    "temp3= temp1[:-1]"
   ],
   "metadata": {
    "collapsed": false,
    "ExecuteTime": {
     "end_time": "2023-11-13T18:36:21.398212Z",
     "start_time": "2023-11-13T18:36:21.387582Z"
    }
   },
   "id": "74384c92e32381c5"
  },
  {
   "cell_type": "code",
   "execution_count": 99,
   "outputs": [],
   "source": [
    "SP500 = SP500.drop(0,axis=0)"
   ],
   "metadata": {
    "collapsed": false,
    "ExecuteTime": {
     "end_time": "2023-11-13T18:38:09.807640Z",
     "start_time": "2023-11-13T18:38:09.803983Z"
    }
   },
   "id": "b31c090ac1f1dd94"
  },
  {
   "cell_type": "code",
   "execution_count": 223,
   "outputs": [],
   "source": [
    "SP500['returnSP500S'] = (temp3-temp2)/temp3*100*365/12\n",
    "SP500['returnSP500L'] = (temp1 - temp1[0])/temp1[0]*100"
   ],
   "metadata": {
    "collapsed": false,
    "ExecuteTime": {
     "end_time": "2023-11-14T15:02:19.509380Z",
     "start_time": "2023-11-14T15:02:19.503001Z"
    }
   },
   "id": "6a819098f4f4c651"
  },
  {
   "cell_type": "code",
   "execution_count": 224,
   "outputs": [],
   "source": [
    "series_id = 'DGS10'\n",
    "start_date = '2013-11-11'\n",
    "end_date = '2023-11-13'\n",
    "ts_frequency = 'd'\n",
    "ts_units = 'pc1'\n",
    "\n",
    "obs_params = {\n",
    "    'series_id': series_id,\n",
    "    'api_key': api_key,\n",
    "    'file_type': 'json',\n",
    "    'observation_start': start_date,\n",
    "    'observation_end': end_date,\n",
    "    # 'frequency': ts_frequency\n",
    "    # 'units': ts_units\n",
    "}"
   ],
   "metadata": {
    "collapsed": false,
    "ExecuteTime": {
     "end_time": "2023-11-14T15:02:20.301259Z",
     "start_time": "2023-11-14T15:02:20.297362Z"
    }
   },
   "id": "9f8ad211a11e4c93"
  },
  {
   "cell_type": "code",
   "execution_count": 225,
   "outputs": [],
   "source": [
    "# Make request to FRED API\n",
    "response = requests.get(base_url + obs_endpoint, params=obs_params)\n",
    "# Format data\n",
    "if response.status_code == 200:\n",
    "    res_data = response.json()\n",
    "    obs_data = pd.DataFrame(res_data['observations'])\n",
    "    obs_data['date'] = pd.to_datetime(obs_data['date'])\n",
    "else:\n",
    "    print('Failed to retrieve data. Status code:', response.status_code)"
   ],
   "metadata": {
    "collapsed": false,
    "ExecuteTime": {
     "end_time": "2023-11-14T15:02:21.804041Z",
     "start_time": "2023-11-14T15:02:20.885899Z"
    }
   },
   "id": "7df1682e327f76ed"
  },
  {
   "cell_type": "code",
   "execution_count": 226,
   "outputs": [],
   "source": [
    "bonds = obs_data"
   ],
   "metadata": {
    "collapsed": false,
    "ExecuteTime": {
     "end_time": "2023-11-14T15:02:21.812264Z",
     "start_time": "2023-11-14T15:02:21.804905Z"
    }
   },
   "id": "8059f8152577f190"
  },
  {
   "cell_type": "code",
   "execution_count": 227,
   "outputs": [],
   "source": [
    "temp4 = np.array(bonds['value'])\n",
    "idx = np.array([])\n",
    "for i, n in enumerate(temp4):\n",
    "    if n == '.':\n",
    "        idx = np.append(idx, i)\n",
    "idx = idx.astype(int)\n",
    "temp4 = np.delete(temp4,idx)\n",
    "temp4 = temp4.astype(float)"
   ],
   "metadata": {
    "collapsed": false,
    "ExecuteTime": {
     "end_time": "2023-11-14T15:02:21.813108Z",
     "start_time": "2023-11-14T15:02:21.809354Z"
    }
   },
   "id": "b56336b457bf1b31"
  },
  {
   "cell_type": "code",
   "execution_count": 228,
   "outputs": [],
   "source": [
    "bonds = bonds.drop(idx, axis=0)"
   ],
   "metadata": {
    "collapsed": false,
    "ExecuteTime": {
     "end_time": "2023-11-14T15:02:22.747697Z",
     "start_time": "2023-11-14T15:02:22.745119Z"
    }
   },
   "id": "2cd3c3f8933a12b"
  },
  {
   "cell_type": "code",
   "execution_count": 229,
   "outputs": [],
   "source": [
    "#bonds = bonds.drop(['realtime_start','realtime_end','value'], axis = 1)\n",
    "bonds['value_B10'] = temp4"
   ],
   "metadata": {
    "collapsed": false,
    "ExecuteTime": {
     "end_time": "2023-11-14T15:02:23.663346Z",
     "start_time": "2023-11-14T15:02:23.661562Z"
    }
   },
   "id": "f689a6d3feed4363"
  },
  {
   "cell_type": "code",
   "execution_count": 230,
   "outputs": [],
   "source": [
    "final = pd.merge(SP500, bonds, on='date', how = 'right')"
   ],
   "metadata": {
    "collapsed": false,
    "ExecuteTime": {
     "end_time": "2023-11-14T15:02:24.697025Z",
     "start_time": "2023-11-14T15:02:24.688387Z"
    }
   },
   "id": "c31a2b922e568940"
  },
  {
   "cell_type": "code",
   "execution_count": 232,
   "outputs": [],
   "source": [
    "rm = np.array(final['returnSP500S'])\n",
    "rm = rm.astype(float)"
   ],
   "metadata": {
    "collapsed": false,
    "ExecuteTime": {
     "end_time": "2023-11-14T15:02:35.075333Z",
     "start_time": "2023-11-14T15:02:35.072917Z"
    }
   },
   "id": "d78b4fef276057e"
  },
  {
   "cell_type": "code",
   "execution_count": 233,
   "outputs": [],
   "source": [
    "re = np.array(final['value_B10'])\n",
    "re = re.astype(float)"
   ],
   "metadata": {
    "collapsed": false,
    "ExecuteTime": {
     "end_time": "2023-11-14T15:02:35.442925Z",
     "start_time": "2023-11-14T15:02:35.438789Z"
    }
   },
   "id": "bd660527cd13b95f"
  },
  {
   "cell_type": "code",
   "execution_count": 243,
   "outputs": [
    {
     "data": {
      "text/plain": "<matplotlib.collections.PathCollection at 0x288566810>"
     },
     "execution_count": 243,
     "metadata": {},
     "output_type": "execute_result"
    },
    {
     "data": {
      "text/plain": "<Figure size 640x480 with 1 Axes>",
      "image/png": "[encoded data removed]"
     },
     "metadata": {},
     "output_type": "display_data"
    }
   ],
   "source": [
    "plt.scatter(final['date'],final['returnSP500S'], color='r')\n",
    "plt.scatter(final['date'],final['returnSP500L'], color='g')\n",
    "plt.scatter(final['date'],final['value_B10'], color='b')"
   ],
   "metadata": {
    "collapsed": false,
    "ExecuteTime": {
     "end_time": "2023-11-14T15:10:21.943909Z",
     "start_time": "2023-11-14T15:10:21.786413Z"
    }
   },
   "id": "50f8043162293483"
  },
  {
   "cell_type": "code",
   "execution_count": 240,
   "outputs": [],
   "source": [
    "cov = final.cov(min_periods=None, ddof=1, numeric_only=True)"
   ],
   "metadata": {
    "collapsed": false,
    "ExecuteTime": {
     "end_time": "2023-11-14T15:04:10.202938Z",
     "start_time": "2023-11-14T15:04:10.196482Z"
    }
   },
   "id": "f393f2aecc53fb"
  },
  {
   "cell_type": "code",
   "execution_count": 247,
   "outputs": [],
   "source": [
    "var1 = final['returnSP500S'].var(axis=0, skipna=True, ddof=1, numeric_only=False)\n",
    "var2= final['returnSP500L'].var(axis=0, skipna=True, ddof=1, numeric_only=False)"
   ],
   "metadata": {
    "collapsed": false,
    "ExecuteTime": {
     "end_time": "2023-11-14T16:04:23.152312Z",
     "start_time": "2023-11-14T16:04:23.148821Z"
    }
   },
   "id": "7c238934e1b1d4c5"
  },
  {
   "cell_type": "code",
   "execution_count": 248,
   "outputs": [
    {
     "data": {
      "text/plain": "return          0.032877\nreturnSP500S    1.000000\nreturnSP500L   -0.022223\nvalue_B10       0.000433\nName: returnSP500S, dtype: float64"
     },
     "execution_count": 248,
     "metadata": {},
     "output_type": "execute_result"
    }
   ],
   "source": [
    "cov['returnSP500S']/var1"
   ],
   "metadata": {
    "collapsed": false,
    "ExecuteTime": {
     "end_time": "2023-11-14T16:04:26.013295Z",
     "start_time": "2023-11-14T16:04:26.000140Z"
    }
   },
   "id": "6a25d27cbf60187a"
  },
  {
   "cell_type": "code",
   "execution_count": 249,
   "outputs": [
    {
     "data": {
      "text/plain": "return          0.014935\nreturnSP500S    0.454278\nreturnSP500L   -0.010095\nvalue_B10       0.000197\nName: returnSP500S, dtype: float64"
     },
     "execution_count": 249,
     "metadata": {},
     "output_type": "execute_result"
    }
   ],
   "source": [
    "cov['returnSP500S']/var2"
   ],
   "metadata": {
    "collapsed": false,
    "ExecuteTime": {
     "end_time": "2023-11-14T16:04:31.337876Z",
     "start_time": "2023-11-14T16:04:31.314673Z"
    }
   },
   "id": "5913fcc48d8269a2"
  },
  {
   "cell_type": "code",
   "execution_count": null,
   "outputs": [],
   "source": [],
   "metadata": {
    "collapsed": false
   },
   "id": "b80b416be972a2e2"
  }
 ],
 "metadata": {
  "kernelspec": {
   "display_name": "Python 3",
   "language": "python",
   "name": "python3"
  },
  "language_info": {
   "codemirror_mode": {
    "name": "ipython",
    "version": 2
   },
   "file_extension": ".py",
   "mimetype": "text/x-python",
   "name": "python",
   "nbconvert_exporter": "python",
   "pygments_lexer": "ipython2",
   "version": "2.7.6"
  }
 },
 "nbformat": 4,
 "nbformat_minor": 5
}
