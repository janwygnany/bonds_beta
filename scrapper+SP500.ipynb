{
 "cells": [
  {
   "cell_type": "markdown",
   "source": [
    "# Excersise in beta calculation using FRED API\n",
    "In the following jupyter notebook I am looking at possibility of calculating beta (volatility measure) for US govt. bonds"
   ],
   "metadata": {
    "collapsed": false
   },
   "id": "36f7976fffcac92"
  },
  {
   "cell_type": "code",
   "execution_count": 1,
   "id": "initial_id",
   "metadata": {
    "collapsed": true,
    "ExecuteTime": {
     "end_time": "2023-11-16T12:03:35.305061Z",
     "start_time": "2023-11-16T12:03:34.691024Z"
    }
   },
   "outputs": [],
   "source": [
    "import numpy as np\n",
    "import requests\n",
    "import pandas as pd\n",
    "from fred_key import fred_key\n",
    "import matplotlib.pyplot as plt"
   ]
  },
  {
   "cell_type": "code",
   "execution_count": 2,
   "outputs": [],
   "source": [
    "api_key = fred_key"
   ],
   "metadata": {
    "collapsed": false,
    "ExecuteTime": {
     "end_time": "2023-11-16T12:03:35.307538Z",
     "start_time": "2023-11-16T12:03:35.305679Z"
    }
   },
   "id": "36d820118f2d7958"
  },
  {
   "cell_type": "code",
   "execution_count": 3,
   "outputs": [],
   "source": [
    "# Define the FRED API endpoint\n",
    "base_url = 'https://api.stlouisfed.org/fred/'\n",
    "\n",
    "'''\n",
    "Get observation data from the FRED API\n",
    "'''\n",
    "\n",
    "# Assign endpoint\n",
    "obs_endpoint = 'series/observations'"
   ],
   "metadata": {
    "collapsed": false,
    "ExecuteTime": {
     "end_time": "2023-11-16T12:03:35.312722Z",
     "start_time": "2023-11-16T12:03:35.307855Z"
    }
   },
   "id": "e99a90fc2a18cc4d"
  },
  {
   "cell_type": "code",
   "execution_count": 4,
   "outputs": [],
   "source": [
    "# Assign parameters\n",
    "series_id = 'SP500'\n",
    "start_date = '2013-11-11'\n",
    "end_date = '2023-11-13'\n",
    "ts_frequency = 'd'\n",
    "ts_units = 'pc1'"
   ],
   "metadata": {
    "collapsed": false,
    "ExecuteTime": {
     "end_time": "2023-11-16T12:03:36.132533Z",
     "start_time": "2023-11-16T12:03:36.129785Z"
    }
   },
   "id": "3cf8e667b337413c"
  },
  {
   "cell_type": "code",
   "execution_count": 5,
   "outputs": [],
   "source": [
    "obs_params = {\n",
    "    'series_id': series_id,\n",
    "    'api_key': api_key,\n",
    "    'file_type': 'json',\n",
    "    'observation_start': start_date,\n",
    "    'observation_end': end_date,\n",
    "    # 'frequency': ts_frequency\n",
    "    # 'units': ts_units\n",
    "}\n",
    "\n",
    "# Make request to FRED API\n",
    "response = requests.get(base_url + obs_endpoint, params=obs_params)"
   ],
   "metadata": {
    "collapsed": false,
    "ExecuteTime": {
     "end_time": "2023-11-16T12:03:36.989147Z",
     "start_time": "2023-11-16T12:03:36.658919Z"
    }
   },
   "id": "c43af03129829949"
  },
  {
   "cell_type": "code",
   "execution_count": 6,
   "outputs": [],
   "source": [
    "# Format data\n",
    "if response.status_code == 200:\n",
    "    res_data = response.json()\n",
    "    obs_data = pd.DataFrame(res_data['observations'])\n",
    "    obs_data['date'] = pd.to_datetime(obs_data['date'])\n",
    "else:\n",
    "    print('Failed to retrieve data. Status code:', response.status_code)\n",
    "    "
   ],
   "metadata": {
    "collapsed": false,
    "ExecuteTime": {
     "end_time": "2023-11-16T12:03:37.056462Z",
     "start_time": "2023-11-16T12:03:37.053130Z"
    }
   },
   "id": "7694d2fb0d08684b"
  },
  {
   "cell_type": "code",
   "execution_count": 7,
   "outputs": [],
   "source": [
    "SP500 = obs_data.drop(['realtime_start','realtime_end'], axis = 1)"
   ],
   "metadata": {
    "collapsed": false,
    "ExecuteTime": {
     "end_time": "2023-11-16T12:03:37.321359Z",
     "start_time": "2023-11-16T12:03:37.315466Z"
    }
   },
   "id": "1594428acafb52c8"
  },
  {
   "cell_type": "code",
   "execution_count": 8,
   "outputs": [],
   "source": [
    "temp1= np.array(SP500['value'])"
   ],
   "metadata": {
    "collapsed": false,
    "ExecuteTime": {
     "end_time": "2023-11-16T12:03:37.487693Z",
     "start_time": "2023-11-16T12:03:37.485329Z"
    }
   },
   "id": "a5a545e44d1b94e5"
  },
  {
   "cell_type": "code",
   "execution_count": 9,
   "outputs": [],
   "source": [
    "idx = np.array([])\n",
    "for i, n in enumerate(temp1):\n",
    "    if n == '.':\n",
    "        idx = np.append(idx, i)\n",
    "idx = idx.astype(int)\n",
    "temp1 = np.delete(temp1,idx)"
   ],
   "metadata": {
    "collapsed": false,
    "ExecuteTime": {
     "end_time": "2023-11-16T12:03:38.133213Z",
     "start_time": "2023-11-16T12:03:38.125747Z"
    }
   },
   "id": "f571141d68cdda37"
  },
  {
   "cell_type": "code",
   "execution_count": 10,
   "outputs": [],
   "source": [
    "temp1 = temp1.astype(float)"
   ],
   "metadata": {
    "collapsed": false,
    "ExecuteTime": {
     "end_time": "2023-11-16T12:03:38.522768Z",
     "start_time": "2023-11-16T12:03:38.520675Z"
    }
   },
   "id": "f592a7c383b51d42"
  },
  {
   "cell_type": "code",
   "execution_count": 11,
   "outputs": [],
   "source": [
    "temp2= temp1[1:]\n",
    "temp3= temp1[:-1]"
   ],
   "metadata": {
    "collapsed": false,
    "ExecuteTime": {
     "end_time": "2023-11-16T12:03:38.954472Z",
     "start_time": "2023-11-16T12:03:38.952851Z"
    }
   },
   "id": "74384c92e32381c5"
  },
  {
   "cell_type": "code",
   "execution_count": 12,
   "outputs": [],
   "source": [
    "SP500 = SP500.drop(idx, axis=0)\n",
    "SP500 = SP500.drop(0, axis=0)"
   ],
   "metadata": {
    "collapsed": false,
    "ExecuteTime": {
     "end_time": "2023-11-16T12:03:39.626132Z",
     "start_time": "2023-11-16T12:03:39.619502Z"
    }
   },
   "id": "b31c090ac1f1dd94"
  },
  {
   "cell_type": "code",
   "execution_count": 13,
   "outputs": [
    {
     "data": {
      "text/plain": "           date    value\n0    2013-11-19  1787.87\n1    2013-11-20  1781.37\n2    2013-11-21  1795.85\n3    2013-11-22  1804.76\n4    2013-11-25  1802.48\n...         ...      ...\n2508 2023-11-07  4378.38\n2509 2023-11-08  4382.78\n2510 2023-11-09  4347.35\n2511 2023-11-10  4415.24\n2512 2023-11-13  4411.55\n\n[2513 rows x 2 columns]",
      "text/html": "<div>\n<style scoped>\n    .dataframe tbody tr th:only-of-type {\n        vertical-align: middle;\n    }\n\n    .dataframe tbody tr th {\n        vertical-align: top;\n    }\n\n    .dataframe thead th {\n        text-align: right;\n    }\n</style>\n<table border=\"1\" class=\"dataframe\">\n  <thead>\n    <tr style=\"text-align: right;\">\n      <th></th>\n      <th>date</th>\n      <th>value</th>\n    </tr>\n  </thead>\n  <tbody>\n    <tr>\n      <th>0</th>\n      <td>2013-11-19</td>\n      <td>1787.87</td>\n    </tr>\n    <tr>\n      <th>1</th>\n      <td>2013-11-20</td>\n      <td>1781.37</td>\n    </tr>\n    <tr>\n      <th>2</th>\n      <td>2013-11-21</td>\n      <td>1795.85</td>\n    </tr>\n    <tr>\n      <th>3</th>\n      <td>2013-11-22</td>\n      <td>1804.76</td>\n    </tr>\n    <tr>\n      <th>4</th>\n      <td>2013-11-25</td>\n      <td>1802.48</td>\n    </tr>\n    <tr>\n      <th>...</th>\n      <td>...</td>\n      <td>...</td>\n    </tr>\n    <tr>\n      <th>2508</th>\n      <td>2023-11-07</td>\n      <td>4378.38</td>\n    </tr>\n    <tr>\n      <th>2509</th>\n      <td>2023-11-08</td>\n      <td>4382.78</td>\n    </tr>\n    <tr>\n      <th>2510</th>\n      <td>2023-11-09</td>\n      <td>4347.35</td>\n    </tr>\n    <tr>\n      <th>2511</th>\n      <td>2023-11-10</td>\n      <td>4415.24</td>\n    </tr>\n    <tr>\n      <th>2512</th>\n      <td>2023-11-13</td>\n      <td>4411.55</td>\n    </tr>\n  </tbody>\n</table>\n<p>2513 rows × 2 columns</p>\n</div>"
     },
     "execution_count": 13,
     "metadata": {},
     "output_type": "execute_result"
    }
   ],
   "source": [
    "SP500.reset_index(drop=True, inplace=True)\n",
    "SP500"
   ],
   "metadata": {
    "collapsed": false,
    "ExecuteTime": {
     "end_time": "2023-11-16T12:03:40.248465Z",
     "start_time": "2023-11-16T12:03:40.240109Z"
    }
   },
   "id": "dda5a26846631bf"
  },
  {
   "cell_type": "code",
   "execution_count": 14,
   "outputs": [],
   "source": [
    "SP500_2 = SP500.drop(index=range(0, 366))"
   ],
   "metadata": {
    "collapsed": false,
    "ExecuteTime": {
     "end_time": "2023-11-16T12:03:41.466424Z",
     "start_time": "2023-11-16T12:03:41.457445Z"
    }
   },
   "id": "5322e05707b2ec3f"
  },
  {
   "cell_type": "code",
   "execution_count": 15,
   "outputs": [],
   "source": [
    "temp4 = temp1[367:]\n",
    "temp5 = temp1[:-367]"
   ],
   "metadata": {
    "collapsed": false,
    "ExecuteTime": {
     "end_time": "2023-11-16T12:03:42.054049Z",
     "start_time": "2023-11-16T12:03:42.051031Z"
    }
   },
   "id": "572ac86ef2fdba27"
  },
  {
   "cell_type": "code",
   "execution_count": 16,
   "outputs": [],
   "source": [
    "SP500['returnSP500S'] = ((((temp3-temp2)/temp3+1)**365) - 1) * 100\n",
    "SP500_2['returnSP500L'] = ((temp4-temp5)/temp5)*100\n",
    "##SP500[] = np.array((temp1 - temp1[0])/temp1[0]*100)\n",
    "##temp4 = np.delete[0]\n",
    "##SP500['returnSP500L'] = temp4\n"
   ],
   "metadata": {
    "collapsed": false,
    "ExecuteTime": {
     "end_time": "2023-11-16T12:03:42.828517Z",
     "start_time": "2023-11-16T12:03:42.814497Z"
    }
   },
   "id": "6a819098f4f4c651"
  },
  {
   "cell_type": "code",
   "execution_count": 17,
   "outputs": [],
   "source": [
    "series_id = 'DGS10'\n",
    "start_date = '2013-11-11'\n",
    "end_date = '2023-11-13'\n",
    "ts_frequency = 'd'\n",
    "ts_units = 'pc1'\n",
    "\n",
    "obs_params = {\n",
    "    'series_id': series_id,\n",
    "    'api_key': api_key,\n",
    "    'file_type': 'json',\n",
    "    'observation_start': start_date,\n",
    "    'observation_end': end_date,\n",
    "    # 'frequency': ts_frequency\n",
    "    # 'units': ts_units\n",
    "}"
   ],
   "metadata": {
    "collapsed": false,
    "ExecuteTime": {
     "end_time": "2023-11-16T12:03:43.201191Z",
     "start_time": "2023-11-16T12:03:43.199981Z"
    }
   },
   "id": "9f8ad211a11e4c93"
  },
  {
   "cell_type": "code",
   "execution_count": 18,
   "outputs": [],
   "source": [
    "# Make request to FRED API\n",
    "response = requests.get(base_url + obs_endpoint, params=obs_params)\n",
    "# Format data\n",
    "if response.status_code == 200:\n",
    "    res_data = response.json()\n",
    "    obs_data = pd.DataFrame(res_data['observations'])\n",
    "    obs_data['date'] = pd.to_datetime(obs_data['date'])\n",
    "else:\n",
    "    print('Failed to retrieve data. Status code:', response.status_code)"
   ],
   "metadata": {
    "collapsed": false,
    "ExecuteTime": {
     "end_time": "2023-11-16T12:03:43.829474Z",
     "start_time": "2023-11-16T12:03:43.576854Z"
    }
   },
   "id": "7df1682e327f76ed"
  },
  {
   "cell_type": "code",
   "execution_count": 19,
   "outputs": [],
   "source": [
    "bonds = obs_data"
   ],
   "metadata": {
    "collapsed": false,
    "ExecuteTime": {
     "end_time": "2023-11-16T12:03:44.178961Z",
     "start_time": "2023-11-16T12:03:44.176916Z"
    }
   },
   "id": "8059f8152577f190"
  },
  {
   "cell_type": "code",
   "execution_count": 20,
   "outputs": [],
   "source": [
    "temp4 = np.array(bonds['value'])\n",
    "idx = np.array([])\n",
    "for i, n in enumerate(temp4):\n",
    "    if n == '.':\n",
    "        idx = np.append(idx, i)\n",
    "idx = idx.astype(int)\n",
    "temp4 = np.delete(temp4,idx)\n",
    "temp4 = temp4.astype(float)"
   ],
   "metadata": {
    "collapsed": false,
    "ExecuteTime": {
     "end_time": "2023-11-16T12:03:44.659979Z",
     "start_time": "2023-11-16T12:03:44.650542Z"
    }
   },
   "id": "b56336b457bf1b31"
  },
  {
   "cell_type": "code",
   "execution_count": 21,
   "outputs": [],
   "source": [
    "bonds = bonds.drop(idx, axis=0)"
   ],
   "metadata": {
    "collapsed": false,
    "ExecuteTime": {
     "end_time": "2023-11-16T12:03:45.053154Z",
     "start_time": "2023-11-16T12:03:45.045496Z"
    }
   },
   "id": "2cd3c3f8933a12b"
  },
  {
   "cell_type": "code",
   "execution_count": 22,
   "outputs": [],
   "source": [
    "#bonds = bonds.drop(['realtime_start','realtime_end','value'], axis = 1)\n",
    "bonds['value_B10'] = temp4"
   ],
   "metadata": {
    "collapsed": false,
    "ExecuteTime": {
     "end_time": "2023-11-16T12:03:45.526878Z",
     "start_time": "2023-11-16T12:03:45.518911Z"
    }
   },
   "id": "f689a6d3feed4363"
  },
  {
   "cell_type": "code",
   "execution_count": 23,
   "outputs": [
    {
     "data": {
      "text/plain": "           date  returnSP500L  value_B10   SP500v\n370  2015-05-06     16.110252       2.25  2080.15\n371  2015-05-07     16.787015       2.18  2088.00\n372  2015-05-08     18.790594       2.16  2116.10\n373  2015-05-11     17.233065       2.28  2105.33\n374  2015-05-12     16.310202       2.28  2099.12\n...         ...           ...        ...      ...\n2498 2023-11-07     10.182573       4.58  4378.38\n2499 2023-11-08     11.196302       4.49  4382.78\n2500 2023-11-09      9.264765       4.62  4347.35\n2501 2023-11-10      8.807642       4.61  4415.24\n2502 2023-11-13      6.091760       4.63  4411.55\n\n[2131 rows x 4 columns]",
      "text/html": "<div>\n<style scoped>\n    .dataframe tbody tr th:only-of-type {\n        vertical-align: middle;\n    }\n\n    .dataframe tbody tr th {\n        vertical-align: top;\n    }\n\n    .dataframe thead th {\n        text-align: right;\n    }\n</style>\n<table border=\"1\" class=\"dataframe\">\n  <thead>\n    <tr style=\"text-align: right;\">\n      <th></th>\n      <th>date</th>\n      <th>returnSP500L</th>\n      <th>value_B10</th>\n      <th>SP500v</th>\n    </tr>\n  </thead>\n  <tbody>\n    <tr>\n      <th>370</th>\n      <td>2015-05-06</td>\n      <td>16.110252</td>\n      <td>2.25</td>\n      <td>2080.15</td>\n    </tr>\n    <tr>\n      <th>371</th>\n      <td>2015-05-07</td>\n      <td>16.787015</td>\n      <td>2.18</td>\n      <td>2088.00</td>\n    </tr>\n    <tr>\n      <th>372</th>\n      <td>2015-05-08</td>\n      <td>18.790594</td>\n      <td>2.16</td>\n      <td>2116.10</td>\n    </tr>\n    <tr>\n      <th>373</th>\n      <td>2015-05-11</td>\n      <td>17.233065</td>\n      <td>2.28</td>\n      <td>2105.33</td>\n    </tr>\n    <tr>\n      <th>374</th>\n      <td>2015-05-12</td>\n      <td>16.310202</td>\n      <td>2.28</td>\n      <td>2099.12</td>\n    </tr>\n    <tr>\n      <th>...</th>\n      <td>...</td>\n      <td>...</td>\n      <td>...</td>\n      <td>...</td>\n    </tr>\n    <tr>\n      <th>2498</th>\n      <td>2023-11-07</td>\n      <td>10.182573</td>\n      <td>4.58</td>\n      <td>4378.38</td>\n    </tr>\n    <tr>\n      <th>2499</th>\n      <td>2023-11-08</td>\n      <td>11.196302</td>\n      <td>4.49</td>\n      <td>4382.78</td>\n    </tr>\n    <tr>\n      <th>2500</th>\n      <td>2023-11-09</td>\n      <td>9.264765</td>\n      <td>4.62</td>\n      <td>4347.35</td>\n    </tr>\n    <tr>\n      <th>2501</th>\n      <td>2023-11-10</td>\n      <td>8.807642</td>\n      <td>4.61</td>\n      <td>4415.24</td>\n    </tr>\n    <tr>\n      <th>2502</th>\n      <td>2023-11-13</td>\n      <td>6.091760</td>\n      <td>4.63</td>\n      <td>4411.55</td>\n    </tr>\n  </tbody>\n</table>\n<p>2131 rows × 4 columns</p>\n</div>"
     },
     "execution_count": 23,
     "metadata": {},
     "output_type": "execute_result"
    }
   ],
   "source": [
    "final = pd.merge(SP500_2, bonds, on='date', how = 'right')\n",
    "final = final.drop(['realtime_start','realtime_end','value_y'], axis = 1)\n",
    "final['SP500v'] =final['value_x'].astype(float)\n",
    "final = final.drop('value_x',axis=1)\n",
    "final.dropna(axis=0)"
   ],
   "metadata": {
    "collapsed": false,
    "ExecuteTime": {
     "end_time": "2023-11-16T12:03:45.900912Z",
     "start_time": "2023-11-16T12:03:45.872524Z"
    }
   },
   "id": "c31a2b922e568940"
  },
  {
   "cell_type": "markdown",
   "source": [],
   "metadata": {
    "collapsed": false
   },
   "id": "b3a5307a4de01eb2"
  },
  {
   "cell_type": "code",
   "execution_count": 24,
   "outputs": [
    {
     "data": {
      "text/plain": "<matplotlib.collections.PathCollection at 0x129834190>"
     },
     "execution_count": 24,
     "metadata": {},
     "output_type": "execute_result"
    },
    {
     "data": {
      "text/plain": "<Figure size 640x480 with 1 Axes>",
      "image/png": "[encoded data removed]"
     },
     "metadata": {},
     "output_type": "display_data"
    }
   ],
   "source": [
    "plt.scatter(final['date'],final['returnSP500L'], color='r')\n",
    "plt.scatter(final['date'],final['value_B10'], color='b')"
   ],
   "metadata": {
    "collapsed": false,
    "ExecuteTime": {
     "end_time": "2023-11-16T12:03:51.255530Z",
     "start_time": "2023-11-16T12:03:51.132495Z"
    }
   },
   "id": "50f8043162293483"
  },
  {
   "cell_type": "code",
   "execution_count": 26,
   "outputs": [
    {
     "data": {
      "text/plain": "              returnSP500L   value_B10         SP500v\nreturnSP500L    251.993478   -6.245177    3657.027631\nvalue_B10        -6.245177    0.737123     149.098489\nSP500v         3657.027631  149.098489  722581.943234",
      "text/html": "<div>\n<style scoped>\n    .dataframe tbody tr th:only-of-type {\n        vertical-align: middle;\n    }\n\n    .dataframe tbody tr th {\n        vertical-align: top;\n    }\n\n    .dataframe thead th {\n        text-align: right;\n    }\n</style>\n<table border=\"1\" class=\"dataframe\">\n  <thead>\n    <tr style=\"text-align: right;\">\n      <th></th>\n      <th>returnSP500L</th>\n      <th>value_B10</th>\n      <th>SP500v</th>\n    </tr>\n  </thead>\n  <tbody>\n    <tr>\n      <th>returnSP500L</th>\n      <td>251.993478</td>\n      <td>-6.245177</td>\n      <td>3657.027631</td>\n    </tr>\n    <tr>\n      <th>value_B10</th>\n      <td>-6.245177</td>\n      <td>0.737123</td>\n      <td>149.098489</td>\n    </tr>\n    <tr>\n      <th>SP500v</th>\n      <td>3657.027631</td>\n      <td>149.098489</td>\n      <td>722581.943234</td>\n    </tr>\n  </tbody>\n</table>\n</div>"
     },
     "execution_count": 26,
     "metadata": {},
     "output_type": "execute_result"
    }
   ],
   "source": [
    "cov = final.cov(min_periods=None, ddof=1, numeric_only=True)\n",
    "cov"
   ],
   "metadata": {
    "collapsed": false,
    "ExecuteTime": {
     "end_time": "2023-11-16T12:04:31.852659Z",
     "start_time": "2023-11-16T12:04:31.840011Z"
    }
   },
   "id": "f393f2aecc53fb"
  },
  {
   "cell_type": "code",
   "execution_count": 27,
   "outputs": [],
   "source": [
    "var1 = final['returnSP500L'].var(axis=0, skipna=True, ddof=1, numeric_only=False)\n",
    "##var2= final['returnSP500L'].var(axis=0, skipna=True, ddof=1, numeric_only=False)"
   ],
   "metadata": {
    "collapsed": false,
    "ExecuteTime": {
     "end_time": "2023-11-16T12:04:50.146354Z",
     "start_time": "2023-11-16T12:04:50.134303Z"
    }
   },
   "id": "7c238934e1b1d4c5"
  },
  {
   "cell_type": "code",
   "execution_count": 28,
   "outputs": [
    {
     "data": {
      "text/plain": "returnSP500L     1.000000\nvalue_B10       -0.024783\nSP500v          14.512390\nName: returnSP500L, dtype: float64"
     },
     "execution_count": 28,
     "metadata": {},
     "output_type": "execute_result"
    }
   ],
   "source": [
    "cov['returnSP500L']/var1"
   ],
   "metadata": {
    "collapsed": false,
    "ExecuteTime": {
     "end_time": "2023-11-16T12:04:59.944490Z",
     "start_time": "2023-11-16T12:04:59.922656Z"
    }
   },
   "id": "6a25d27cbf60187a"
  },
  {
   "cell_type": "code",
   "execution_count": null,
   "outputs": [],
   "source": [],
   "metadata": {
    "collapsed": false
   },
   "id": "9b46a690ccf4275e"
  }
 ],
 "metadata": {
  "kernelspec": {
   "display_name": "Python 3",
   "language": "python",
   "name": "python3"
  },
  "language_info": {
   "codemirror_mode": {
    "name": "ipython",
    "version": 2
   },
   "file_extension": ".py",
   "mimetype": "text/x-python",
   "name": "python",
   "nbconvert_exporter": "python",
   "pygments_lexer": "ipython2",
   "version": "2.7.6"
  }
 },
 "nbformat": 4,
 "nbformat_minor": 5
}
